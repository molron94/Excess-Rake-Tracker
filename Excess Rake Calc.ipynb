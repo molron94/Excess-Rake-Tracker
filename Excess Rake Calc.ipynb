{
 "cells": [
  {
   "cell_type": "code",
   "execution_count": 1,
   "metadata": {},
   "outputs": [],
   "source": [
    "import pandas as pd"
   ]
  },
  {
   "cell_type": "code",
   "execution_count": 2,
   "metadata": {},
   "outputs": [],
   "source": [
    "csv_list= ['Anmol1.csv', 'Anmol2.csv', 'Anmol3.csv', 'Anmol4.csv', 'Anmol5.csv', 'Anmol6.csv']"
   ]
  },
  {
   "cell_type": "code",
   "execution_count": 3,
   "metadata": {},
   "outputs": [],
   "source": [
    "df= pd.read_csv(csv_list[0])"
   ]
  },
  {
   "cell_type": "code",
   "execution_count": 4,
   "metadata": {},
   "outputs": [],
   "source": [
    "nl_rake_caps= {4000:0, 2000: 1350, 1000: 1350, 600:0, 500:700, 400:0, 200:500, 100:450, 50:300, 20:200, 10:120, 6:80, 4:60, 2:50}\n",
    "pl_rake_caps= {4000:1700, 2000:1600, 1000:1400, 600:1000, 500:0, 400:800, 200:600, 100:450, 50:400, 20:175, 10:125, 6:125, 4:125, 2:125}\n"
   ]
  },
  {
   "cell_type": "code",
   "execution_count": 5,
   "metadata": {},
   "outputs": [],
   "source": [
    "for entry in csv_list[1:]:\n",
    "    temp_df= pd.read_csv(entry)\n",
    "    df=pd.concat([df,temp_df])"
   ]
  },
  {
   "cell_type": "code",
   "execution_count": 6,
   "metadata": {},
   "outputs": [],
   "source": [
    "df=df.reset_index(drop=True)"
   ]
  },
  {
   "cell_type": "code",
   "execution_count": 7,
   "metadata": {
    "scrolled": true
   },
   "outputs": [],
   "source": [
    "df['blind']=df.Stake.str.strip('$').str.split(' ')\n"
   ]
  },
  {
   "cell_type": "code",
   "execution_count": 8,
   "metadata": {},
   "outputs": [],
   "source": [
    "df.blind= df.blind.map(lambda x: x[0])\n",
    "df.blind=df.blind.astype(int)"
   ]
  },
  {
   "cell_type": "code",
   "execution_count": 9,
   "metadata": {},
   "outputs": [],
   "source": [
    "df['game']= df.Stake.str.split(' ').map(lambda x: x[1])"
   ]
  },
  {
   "cell_type": "code",
   "execution_count": 10,
   "metadata": {},
   "outputs": [],
   "source": [
    "df['nl_cap']= df.blind.apply(lambda x: nl_rake_caps[x])\n",
    "df['pl_cap']= df.blind.apply(lambda x: pl_rake_caps[x])"
   ]
  },
  {
   "cell_type": "code",
   "execution_count": 11,
   "metadata": {},
   "outputs": [],
   "source": [
    "df['rake_cap']= (df.game==\"PL\") * df.pl_cap + (df.game==\"NL\") * df.nl_cap"
   ]
  },
  {
   "cell_type": "code",
   "execution_count": 12,
   "metadata": {},
   "outputs": [],
   "source": [
    "df.Rake=df.Rake.str.replace(',', '')"
   ]
  },
  {
   "cell_type": "code",
   "execution_count": 13,
   "metadata": {},
   "outputs": [],
   "source": [
    "df.Rake= df.Rake.str.strip('$').str.strip(' ').astype(float)"
   ]
  },
  {
   "cell_type": "code",
   "execution_count": 14,
   "metadata": {},
   "outputs": [],
   "source": [
    "df['excess_rake']= df.Rake- df.rake_cap\n",
    "df['excess_rake']= 0.5*abs(df.excess_rake) + 0.5*df.excess_rake"
   ]
  },
  {
   "cell_type": "code",
   "execution_count": 15,
   "metadata": {},
   "outputs": [],
   "source": [
    "df['amount_owed']= df.excess_rake- 0.5*df.excess_rake*(df.Winner.str.contains('Split Pot'))"
   ]
  },
  {
   "cell_type": "code",
   "execution_count": 16,
   "metadata": {},
   "outputs": [
    {
     "data": {
      "text/plain": [
       "31468.0"
      ]
     },
     "execution_count": 16,
     "metadata": {},
     "output_type": "execute_result"
    }
   ],
   "source": [
    "df.amount_owed.sum()"
   ]
  },
  {
   "cell_type": "code",
   "execution_count": null,
   "metadata": {},
   "outputs": [],
   "source": []
  }
 ],
 "metadata": {
  "kernelspec": {
   "display_name": "Python 3",
   "language": "python",
   "name": "python3"
  },
  "language_info": {
   "codemirror_mode": {
    "name": "ipython",
    "version": 3
   },
   "file_extension": ".py",
   "mimetype": "text/x-python",
   "name": "python",
   "nbconvert_exporter": "python",
   "pygments_lexer": "ipython3",
   "version": "3.7.4"
  }
 },
 "nbformat": 4,
 "nbformat_minor": 2
}
